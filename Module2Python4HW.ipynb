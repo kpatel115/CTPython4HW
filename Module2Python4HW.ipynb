{
 "cells": [
  {
   "cell_type": "code",
   "execution_count": 1,
   "id": "52f3d823",
   "metadata": {},
   "outputs": [
    {
     "data": {
      "text/plain": [
       "'\\nCoding Temple Module 2 Python 4 OOP Exercises\\nAuthor: Karan Patel\\n'"
      ]
     },
     "execution_count": 1,
     "metadata": {},
     "output_type": "execute_result"
    }
   ],
   "source": [
    "'''\n",
    "Coding Temple Module 2 Python 4 OOP Exercises\n",
    "Author: Karan Patel\n",
    "'''"
   ]
  },
  {
   "cell_type": "code",
   "execution_count": 2,
   "id": "f3bcb77e",
   "metadata": {},
   "outputs": [
    {
     "name": "stdout",
     "output_type": "stream",
     "text": [
      "black\n"
     ]
    }
   ],
   "source": [
    "# In-Class Exercise #1 - Create a class 'Car' and instantiate three different makes of cars\n",
    "class Car():\n",
    "    year = 2023\n",
    "    color = 'black'\n",
    "    engine = 'v6'\n",
    "    \n",
    "mercedes = Car()\n",
    "audi = Car()\n",
    "jeep = Car()\n",
    "print(jeep.color)"
   ]
  },
  {
   "cell_type": "code",
   "execution_count": 4,
   "id": "5f0869eb",
   "metadata": {},
   "outputs": [
    {
     "name": "stdout",
     "output_type": "stream",
     "text": [
      "BMW seats:2 and BMW Doors: 2 \n"
     ]
    }
   ],
   "source": [
    "# In-Class Exercise #2 - \n",
    "# Add a doors and seats attribute to your 'Car' class then \n",
    "# print out two different instances with different doors and seats\n",
    "\n",
    "class Car():\n",
    "    engine = '4.7L'\n",
    "    def __init__(self,wheels,doors,seats):\n",
    "        self.wheels = wheels\n",
    "        self.doors = doors\n",
    "        self.seats = seats\n",
    "        \n",
    "        \n",
    "bmw = Car(4,2,2)\n",
    "hyundai = Car(4,4,5)\n",
    "print(f\"BMW seats:{bmw.seats} and BMW Doors: {bmw.doors} \")"
   ]
  },
  {
   "cell_type": "code",
   "execution_count": 6,
   "id": "363b784d",
   "metadata": {},
   "outputs": [
    {
     "data": {
      "text/plain": [
       "'\\nIn-Class Exercise #3 - Add a method that takes in three parameters of year, doors and seats and prints out a formatted print statement with make, model, year, seats, and doors¶\\n'"
      ]
     },
     "execution_count": 6,
     "metadata": {},
     "output_type": "execute_result"
    }
   ],
   "source": [
    "'''\n",
    "In-Class Exercise #3 - Add a method that takes in three parameters of year, doors and seats and prints out a formatted print statement with make, model, year, seats, and doors¶\n",
    "'''"
   ]
  },
  {
   "cell_type": "code",
   "execution_count": 7,
   "id": "84e45e6f",
   "metadata": {},
   "outputs": [
    {
     "name": "stdout",
     "output_type": "stream",
     "text": [
      "This car is from 2019 and is a Ford Explorer and has 4 doors and 5 seats\n"
     ]
    }
   ],
   "source": [
    "# Create class with 2 paramters inside of the __init__ which are make and model\n",
    "class Cars():\n",
    "    def __init__(self, make, model):\n",
    "        self.make = make\n",
    "        self.model = model\n",
    "# Inside of the Car class create a method that has 4 parameter in total (self,year,door,seats)\n",
    "    def showCar(self, year, doors, seats):\n",
    "        self.year = year\n",
    "        self.doors = doors\n",
    "        self.seats = seats\n",
    "# Output: This car is from 2019 and is a Ford Expolorer and has 4 doors and 5 seats\n",
    "\n",
    "ford = Cars('Ford', 'Explorer')\n",
    "ford.showCar(2019, 4, 5)\n",
    "print(f\"This car is from {ford.year} and is a {ford.make} {ford.model} and has {ford.doors} doors and {ford.seats} seats\")"
   ]
  },
  {
   "cell_type": "code",
   "execution_count": 9,
   "id": "15039bb6",
   "metadata": {},
   "outputs": [
    {
     "data": {
      "text/plain": [
       "'\\nExercise 1 - Turn the shopping cart program from yesterday into an object-oriented program¶\\n\\nThe comments in the cell below are there as a guide for thinking about the problem. However, if you feel a different way is best for you and your own thought process, please do what feels best for you by all means.\\n\\n'"
      ]
     },
     "execution_count": 9,
     "metadata": {},
     "output_type": "execute_result"
    }
   ],
   "source": [
    "# Exercise 1\n",
    "'''\n",
    "Exercise 1 - Turn the shopping cart program from yesterday into an object-oriented program¶\n",
    "\n",
    "The comments in the cell below are there as a guide for thinking about the problem. However, if you feel a different way is best for you and your own thought process, please do what feels best for you by all means.\n",
    "\n",
    "'''"
   ]
  },
  {
   "cell_type": "code",
   "execution_count": 10,
   "id": "166c0633",
   "metadata": {},
   "outputs": [
    {
     "name": "stdout",
     "output_type": "stream",
     "text": [
      "what do you want to do? add/show/quitadd\n",
      "What would you like to add to your Cart?Apples\n",
      "what do you want to do? add/show/quitadd\n",
      "What would you like to add to your Cart?Pears\n",
      "what do you want to do? add/show/quitshow\n",
      "Here is what is in your Cart:\n",
      "Apples\n",
      "Pears\n",
      "what do you want to do? add/show/quitquit\n",
      "Here are your items and thanks for shopping with us!\n",
      "Here is what is in your Cart:\n",
      "Apples\n",
      "Pears\n"
     ]
    }
   ],
   "source": [
    "# Create a class called cart that retains items and has methods to add, remove, and show\n",
    "\n",
    "# Ask the user four bits of input: Do you want to : Show/Add/Delete or Quit?\n",
    "cart = {}\n",
    "\n",
    "# def shoppingCart():\n",
    "#     flag = True\n",
    "    \n",
    "    \n",
    "#     while flag:\n",
    "\n",
    "#         prompt = \"Please enter grocery item and price then enter ':' between them... \\nTo delete an item, enter 'delete' to delete the last cart item... \\nEnter 'quit' to exit...\\n\"\n",
    "#         item = input(prompt)\n",
    "        \n",
    "#         if item == 'quit':\n",
    "#             print(cart)\n",
    "#             flag = False\n",
    "#         elif item == 'delete':\n",
    "#             cart.popitem()\n",
    "#             print(cart)\n",
    "#         else:\n",
    "#             key, val = item.split(':')\n",
    "#             cart.update({key:val})\n",
    "#             print(cart)\n",
    "# shoppingCart()\n",
    "\n",
    "\n",
    "\n",
    "class Cart():\n",
    "    \n",
    "    def __init__(self, items):\n",
    "        self.items = items\n",
    "        \n",
    "    def showCart(self):\n",
    "        print(f'Here is what is in your Cart:')\n",
    "        for item in self.items:\n",
    "            print(item)\n",
    "        \n",
    "    def addToCart(self):\n",
    "        product = input('What would you like to add to your Cart?')\n",
    "        self.items.append(product)\n",
    "        \n",
    "    def removeFromCart(self):\n",
    "        print(\"Removing last item\")\n",
    "        self.items.pop()\n",
    "\n",
    "new_cart = Cart([])        \n",
    "\n",
    "def run():\n",
    "    flag = True\n",
    "    \n",
    "    while flag:\n",
    "        prompt = input(\"what do you want to do? add/show/quit\")\n",
    "        if prompt.lower() == 'quit':\n",
    "            print('Here are your items and thanks for shopping with us!')\n",
    "            new_cart.showCart()\n",
    "            flag = False\n",
    "        elif prompt.lower() == 'add':\n",
    "            new_cart.addToCart()\n",
    "        elif prompt.lower() == 'show':\n",
    "            new_cart.showCart()\n",
    "        else:\n",
    "            print(\"try another response please.\")\n",
    "            \n",
    "run()"
   ]
  },
  {
   "cell_type": "code",
   "execution_count": 12,
   "id": "6b484d96",
   "metadata": {},
   "outputs": [
    {
     "data": {
      "text/plain": [
       "'\\nExercise 2 - Write a Python class which has two methods get_String and print_String. get_String accept a string from the user and print_String print the string in upper case\\n'"
      ]
     },
     "execution_count": 12,
     "metadata": {},
     "output_type": "execute_result"
    }
   ],
   "source": [
    "# Exercise 2\n",
    "'''\n",
    "Exercise 2 - Write a Python class which has two methods get_String and print_String. get_String accept a string from the user and print_String print the string in upper case\n",
    "'''"
   ]
  },
  {
   "cell_type": "code",
   "execution_count": 13,
   "id": "c92e1acb",
   "metadata": {},
   "outputs": [
    {
     "name": "stdout",
     "output_type": "stream",
     "text": [
      "what would you like to do? Continue/Print/ExitContinue\n",
      "Enter a string!String\n",
      "what would you like to do? Continue/Print/ExitContinue\n",
      "Enter a string!Another String\n",
      "what would you like to do? Continue/Print/ExitPrint\n",
      "Printing your inputted Strings\n",
      "STRING\n",
      "ANOTHER STRING\n",
      "what would you like to do? Continue/Print/Exitexit\n",
      "goodbye\n"
     ]
    }
   ],
   "source": [
    "class Print():\n",
    "    def __init__(self, string):\n",
    "        self.string = string\n",
    "    def get_String(self):\n",
    "        user_input = input('Enter a string!')\n",
    "        self.string.append(user_input)\n",
    "    def print_String(self):\n",
    "        print('Printing your inputted Strings')\n",
    "        for word in self.string:\n",
    "            print(word.upper())\n",
    "\n",
    "    \n",
    "word = Print([])\n",
    "\n",
    "def run():\n",
    "    flag = True\n",
    "    while flag:\n",
    "        res = input('what would you like to do? Continue/Print/Exit')\n",
    "        if res.lower() == 'exit':\n",
    "            print('goodbye')\n",
    "            flag = False\n",
    "        elif res.lower() == 'continue':\n",
    "            word.get_String()\n",
    "        elif res.lower() == 'print':\n",
    "            word.print_String()\n",
    "        else:\n",
    "            print('error plz try again')\n",
    "            \n",
    "run()"
   ]
  },
  {
   "cell_type": "code",
   "execution_count": null,
   "id": "3e2f4269",
   "metadata": {},
   "outputs": [],
   "source": []
  }
 ],
 "metadata": {
  "kernelspec": {
   "display_name": "Python 3 (ipykernel)",
   "language": "python",
   "name": "python3"
  },
  "language_info": {
   "codemirror_mode": {
    "name": "ipython",
    "version": 3
   },
   "file_extension": ".py",
   "mimetype": "text/x-python",
   "name": "python",
   "nbconvert_exporter": "python",
   "pygments_lexer": "ipython3",
   "version": "3.9.13"
  }
 },
 "nbformat": 4,
 "nbformat_minor": 5
}
